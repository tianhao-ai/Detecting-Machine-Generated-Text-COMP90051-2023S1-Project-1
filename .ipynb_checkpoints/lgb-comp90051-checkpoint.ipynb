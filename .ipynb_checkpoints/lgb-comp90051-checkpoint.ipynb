{
 "cells": [
  {
   "cell_type": "code",
   "execution_count": 1,
   "metadata": {
    "_cell_guid": "b1076dfc-b9ad-4769-8c92-a6c4dae69d19",
    "_uuid": "8f2839f25d086af736a60e9eeb907d3b93b6e0e5",
    "execution": {
     "iopub.execute_input": "2023-04-25T08:57:21.165186Z",
     "iopub.status.busy": "2023-04-25T08:57:21.164800Z",
     "iopub.status.idle": "2023-04-25T08:57:32.637067Z",
     "shell.execute_reply": "2023-04-25T08:57:32.636087Z",
     "shell.execute_reply.started": "2023-04-25T08:57:21.165151Z"
    }
   },
   "outputs": [],
   "source": [
    "import pandas as pd\n",
    "def read_json_to_dataframe(file_path):\n",
    "    return pd.read_json(file_path)\n",
    "\n",
    "# change file path to your own directory\n",
    "set1_human = read_json_to_dataframe('/kaggle/input/sml-asmt1/set1_human.json')\n",
    "set1_machine = read_json_to_dataframe('/kaggle/input/sml-asmt1/set1_machine.json')\n",
    "set2_human = read_json_to_dataframe('/kaggle/input/sml-asmt1/set2_human.json')\n",
    "set2_machine = read_json_to_dataframe('/kaggle/input/sml-asmt1/set2_machine.json')\n",
    "predict_x = read_json_to_dataframe('/kaggle/input/sml-asmt1/test.json')"
   ]
  },
  {
   "cell_type": "code",
   "execution_count": 3,
   "metadata": {
    "execution": {
     "iopub.execute_input": "2023-04-25T08:57:33.285214Z",
     "iopub.status.busy": "2023-04-25T08:57:33.284755Z",
     "iopub.status.idle": "2023-04-25T09:06:34.797711Z",
     "shell.execute_reply": "2023-04-25T09:06:34.796033Z",
     "shell.execute_reply.started": "2023-04-25T08:57:33.285164Z"
    }
   },
   "outputs": [],
   "source": [
    "# bag of words\n",
    "import numpy as np\n",
    "from scipy.sparse import lil_matrix\n",
    "\n",
    "def integer_sequences_to_sparse_matrix(prompt_data, txt_data):\n",
    "    num_samples = len(prompt_data)\n",
    "    sparse_matrix = lil_matrix((num_samples, 10001), dtype=np.int8)\n",
    "    \n",
    "    for i, (prompt, txt) in enumerate(zip(prompt_data, txt_data)):\n",
    "        sequence = prompt + [1] + txt\n",
    "        prompt = True\n",
    "        for token in sequence:\n",
    "            if token == 1:\n",
    "                prompt = False\n",
    "            if prompt:\n",
    "                sparse_matrix[i, token] += 1\n",
    "            else:\n",
    "                sparse_matrix[i, 5001 + token] += 1\n",
    "        sparse_matrix[i,5001] = 0\n",
    "        sparse_matrix[i,0] = 0   \n",
    "    return sparse_matrix\n",
    "\n",
    "# Apply the function to your datasets\n",
    "set1_human_sparse = integer_sequences_to_sparse_matrix(set1_human['prompt'], set1_human['txt'])\n",
    "set1_machine_sparse = integer_sequences_to_sparse_matrix(set1_machine['prompt'], set1_machine['txt'])\n",
    "set2_human_sparse = integer_sequences_to_sparse_matrix(set2_human['prompt'], set2_human['txt'])\n",
    "set2_machine_sparse = integer_sequences_to_sparse_matrix(set2_machine['prompt'], set2_machine['txt'])\n",
    "predict_x_sparse = integer_sequences_to_sparse_matrix(predict_x['prompt'], predict_x['txt'])"
   ]
  },
  {
   "cell_type": "code",
   "execution_count": 4,
   "metadata": {
    "execution": {
     "iopub.execute_input": "2023-04-25T09:06:34.801339Z",
     "iopub.status.busy": "2023-04-25T09:06:34.800806Z",
     "iopub.status.idle": "2023-04-25T09:06:37.940391Z",
     "shell.execute_reply": "2023-04-25T09:06:37.938506Z",
     "shell.execute_reply.started": "2023-04-25T09:06:34.801274Z"
    }
   },
   "outputs": [],
   "source": [
    "from scipy.sparse import vstack\n",
    "import numpy as np\n",
    "\n",
    "# Combine the source datasets and create labels\n",
    "source_X = vstack([set1_human_sparse, set1_machine_sparse])\n",
    "source_y = np.hstack([np.ones(set1_human_sparse.shape[0]), np.zeros(set1_machine_sparse.shape[0])])\n",
    "source_X = source_X.toarray()"
   ]
  },
  {
   "cell_type": "code",
   "execution_count": 5,
   "metadata": {
    "execution": {
     "iopub.execute_input": "2023-04-25T09:06:37.943433Z",
     "iopub.status.busy": "2023-04-25T09:06:37.942716Z",
     "iopub.status.idle": "2023-04-25T09:06:37.968970Z",
     "shell.execute_reply": "2023-04-25T09:06:37.965387Z",
     "shell.execute_reply.started": "2023-04-25T09:06:37.943358Z"
    }
   },
   "outputs": [],
   "source": [
    "# Combine the target datasets and create labels\n",
    "target_X = vstack([set2_human_sparse, set2_machine_sparse])\n",
    "target_y = np.hstack([np.ones(set2_human_sparse.shape[0]), np.zeros(set2_machine_sparse.shape[0])])\n",
    "target_X= target_X.toarray()"
   ]
  },
  {
   "cell_type": "code",
   "execution_count": 6,
   "metadata": {
    "execution": {
     "iopub.execute_input": "2023-04-25T09:06:37.971335Z",
     "iopub.status.busy": "2023-04-25T09:06:37.970844Z",
     "iopub.status.idle": "2023-04-25T09:06:40.389950Z",
     "shell.execute_reply": "2023-04-25T09:06:40.388778Z",
     "shell.execute_reply.started": "2023-04-25T09:06:37.971281Z"
    }
   },
   "outputs": [
    {
     "data": {
      "text/html": [
       "<style type='text/css'>\n",
       ".datatable table.frame { margin-bottom: 0; }\n",
       ".datatable table.frame thead { border-bottom: none; }\n",
       ".datatable table.frame tr.coltypes td {  color: #FFFFFF;  line-height: 6px;  padding: 0 0.5em;}\n",
       ".datatable .bool    { background: #DDDD99; }\n",
       ".datatable .object  { background: #565656; }\n",
       ".datatable .int     { background: #5D9E5D; }\n",
       ".datatable .float   { background: #4040CC; }\n",
       ".datatable .str     { background: #CC4040; }\n",
       ".datatable .time    { background: #40CC40; }\n",
       ".datatable .row_index {  background: var(--jp-border-color3);  border-right: 1px solid var(--jp-border-color0);  color: var(--jp-ui-font-color3);  font-size: 9px;}\n",
       ".datatable .frame tbody td { text-align: left; }\n",
       ".datatable .frame tr.coltypes .row_index {  background: var(--jp-border-color0);}\n",
       ".datatable th:nth-child(2) { padding-left: 12px; }\n",
       ".datatable .hellipsis {  color: var(--jp-cell-editor-border-color);}\n",
       ".datatable .vellipsis {  background: var(--jp-layout-color0);  color: var(--jp-cell-editor-border-color);}\n",
       ".datatable .na {  color: var(--jp-cell-editor-border-color);  font-size: 80%;}\n",
       ".datatable .sp {  opacity: 0.25;}\n",
       ".datatable .footer { font-size: 9px; }\n",
       ".datatable .frame_dimensions {  background: var(--jp-border-color3);  border-top: 1px solid var(--jp-border-color0);  color: var(--jp-ui-font-color3);  display: inline-block;  opacity: 0.6;  padding: 1px 10px 1px 5px;}\n",
       "</style>\n"
      ],
      "text/plain": [
       "<IPython.core.display.HTML object>"
      ]
     },
     "metadata": {},
     "output_type": "display_data"
    }
   ],
   "source": [
    "import numpy as np\n",
    "import lightgbm as lgb\n",
    "from sklearn.model_selection import StratifiedKFold\n",
    "from sklearn.metrics import accuracy_score\n",
    "# Initialize StratifiedKFold with 5 fole cross validation\n",
    "n_splits = 5\n",
    "skf = StratifiedKFold(n_splits=n_splits, random_state=42, shuffle=True)"
   ]
  },
  {
   "cell_type": "code",
   "execution_count": 12,
   "metadata": {
    "execution": {
     "iopub.execute_input": "2023-04-25T10:01:49.072541Z",
     "iopub.status.busy": "2023-04-25T10:01:49.072051Z",
     "iopub.status.idle": "2023-04-25T10:07:09.721923Z",
     "shell.execute_reply": "2023-04-25T10:07:09.720587Z",
     "shell.execute_reply.started": "2023-04-25T10:01:49.072475Z"
    }
   },
   "outputs": [
    {
     "name": "stdout",
     "output_type": "stream",
     "text": [
      "0.3685906826838558\n",
      "        pred:0  pred:1\n",
      "true:0     629      71\n",
      "true:1    2084   22433\n",
      "0.44478410393580436\n",
      "        pred:0  pred:1\n",
      "true:0     582     118\n",
      "true:1    1335   23182\n",
      "0.45258964143426295\n",
      "        pred:0  pred:1\n",
      "true:0     568     132\n",
      "true:1    1242   23275\n",
      "0.44685802948021713\n",
      "        pred:0  pred:1\n",
      "true:0     576     124\n",
      "true:1    1302   23215\n",
      "0.38583175205566095\n",
      "        pred:0  pred:1\n",
      "true:0     610      90\n",
      "true:1    1852   22664\n",
      "Mean validation accuracy from cross-validation: 0.9338\n",
      "Mean validation f1 of label 0 from cross-validation: 0.4197\n",
      "Mean validation f1 of label 1 from cross-validation: 0.9648\n",
      "Accuracy for label 0: 0.8471428571428572\n",
      "Accuracy for label 1: 0.9362477012480902\n"
     ]
    }
   ],
   "source": [
    "# Perform cross-validation\n",
    "from sklearn.metrics import confusion_matrix,f1_score\n",
    "accuracies = []\n",
    "model_list = []\n",
    "f1_score_list_0 = []\n",
    "f1_score_list_1 = []\n",
    "accuracy_0_list = []\n",
    "accuracy_1_list = []\n",
    "for train_index, val_index in skf.split(source_X, source_y):\n",
    "    X_train, X_val = source_X[train_index], source_X[val_index]\n",
    "    y_train, y_val = source_y[train_index], source_y[val_index]\n",
    "    # Train the LightGBM classifier on the training set\n",
    "    lgb_train = lgb.Dataset(X_train, y_train)\n",
    "    params = {\n",
    "    'objective': 'binary',\n",
    "    'metric': 'binary_logloss',\n",
    "    'reg_alpha' : 10,\n",
    "    'n_jobs' : -1,    \n",
    "    'learning_rate': 0.1,\n",
    "    'num_leaves': 31,\n",
    "    'verbose':-1,\n",
    "    'boosting': 'goss',\n",
    "    'bagging_freq': 50,\n",
    "    'pos_bagging_fraction': 0.0287,\n",
    "    'neg_bagging_fraction': 1\n",
    "    }\n",
    "\n",
    "    gbm_initial = lgb.train(params,\n",
    "                    lgb_train,\n",
    "                    num_boost_round=100)\n",
    "    \n",
    "    gbm_initial.save_model('initial_model.txt')\n",
    "    \n",
    "    # fine tuned the model on target dataset\n",
    "    lgb_target_train = lgb.Dataset(target_X, target_y)\n",
    "    params = {\n",
    "    'objective': 'binary',\n",
    "    'metric': 'binary_logloss',\n",
    "    'boosting_type':'dart',\n",
    "    'reg_alpha' : 1,\n",
    "    'n_jobs' : -1,    \n",
    "    'learning_rate': 0.01,\n",
    "    'num_leaves': 20,\n",
    "    'verbose':-1,\n",
    "    'subsample_for_bin': 400000,\n",
    "    'bagging_freq': 2,\n",
    "    'pos_bagging_fraction': 0.01,\n",
    "    'neg_bagging_fraction': 1\n",
    "    }\n",
    "    lgb_target = lgb.train(params,\n",
    "                    lgb_target_train,\n",
    "                    num_boost_round=170,\n",
    "                    init_model='initial_model.txt')\n",
    "\n",
    "    # Evaluate the model on the validation set\n",
    "    y_val_pred = lgb_target.predict(X_val)\n",
    "    y_val_pred = (y_val_pred > 0.5).astype(int)  # Convert continuous predictions to binary class labels\n",
    "\n",
    "    model_list.append(lgb_target)\n",
    "    accuracies.append(accuracy_score(y_val, y_val_pred))\n",
    "    f1_score_list_0.append(f1_score(y_val, y_val_pred,average = 'binary',pos_label= 0))\n",
    "    f1_score_list_1.append(f1_score(y_val, y_val_pred,average = 'binary',pos_label= 1))\n",
    "    cmtx = pd.DataFrame(confusion_matrix(y_val, y_val_pred,labels=[0.0, 1.0]),\n",
    "                        index=['true:0', 'true:1'], columns=['pred:0', 'pred:1'])\n",
    "    accuracy_0_list.append(cmtx.iloc[0]['pred:0']/(cmtx.iloc[0]['pred:0']+cmtx.iloc[0]['pred:1']))\n",
    "    accuracy_1_list.append(cmtx.iloc[1]['pred:1']/(cmtx.iloc[1]['pred:0']+cmtx.iloc[1]['pred:1']))\n",
    "    print(cmtx)\n",
    "    \n",
    "# print performance\n",
    "print(f\"Mean validation accuracy from cross-validation: {np.mean(accuracies):.4f}\")\n",
    "print(f\"Mean validation f1 of label 0 from cross-validation: {np.mean(f1_score_list_0):.4f}\")\n",
    "print(f\"Mean validation f1 of label 1 from cross-validation: {np.mean(f1_score_list_1):.4f}\")\n",
    "print(\"Accuracy for label 0:\", np.mean(accuracy_0_list))\n",
    "print(\"Accuracy for label 1:\", np.mean(accuracy_1_list))"
   ]
  },
  {
   "cell_type": "code",
   "execution_count": null,
   "metadata": {
    "execution": {
     "iopub.status.busy": "2023-04-25T05:05:44.815755Z",
     "iopub.status.idle": "2023-04-25T05:05:44.816176Z",
     "shell.execute_reply": "2023-04-25T05:05:44.815998Z",
     "shell.execute_reply.started": "2023-04-25T05:05:44.815975Z"
    }
   },
   "outputs": [],
   "source": [
    "# train full dataset, if you don't want to train on full data, don't run it\n",
    "lgb_train = lgb.Dataset(source_X, source_y)\n",
    "params = {\n",
    "    'objective': 'binary',\n",
    "    'metric': 'binary_logloss',\n",
    "    'reg_alpha' : 10,\n",
    "    'n_jobs' : -1,    \n",
    "    'learning_rate': 0.1,\n",
    "    'num_leaves': 31,\n",
    "    'verbose':-1,\n",
    "    'boosting': 'goss',\n",
    "    'bagging_freq': 50,\n",
    "    'pos_bagging_fraction': 0.0287,\n",
    "    'neg_bagging_fraction': 1\n",
    "    }\n",
    "gbm_initial = lgb.train(params,\n",
    "                lgb_train,\n",
    "                num_boost_round=100)\n",
    "\n",
    "gbm_initial.save_model('initial_model.txt')\n",
    "\n",
    "# fine tuned the model on target dataset\n",
    "lgb_target_train = lgb.Dataset(target_X, target_y)\n",
    "params = {\n",
    "    'objective': 'binary',\n",
    "    'metric': 'binary_logloss',\n",
    "    'boosting_type':'dart',\n",
    "    'reg_lambda' : 1,\n",
    "    'n_jobs' : -1,    \n",
    "    'learning_rate': 0.01,\n",
    "    'num_leaves': 20,\n",
    "    'verbose':-1,\n",
    "    'subsample_for_bin': 400000,\n",
    "    'bagging_freq': 2,\n",
    "    'pos_bagging_fraction': 0.01,\n",
    "    'neg_bagging_fraction': 1\n",
    "    }\n",
    "lgb_target = lgb.train(params,\n",
    "                lgb_target_train,\n",
    "                num_boost_round=170,\n",
    "                init_model='initial_model.txt')"
   ]
  },
  {
   "cell_type": "code",
   "execution_count": 20,
   "metadata": {
    "execution": {
     "iopub.execute_input": "2023-04-25T03:40:13.496760Z",
     "iopub.status.busy": "2023-04-25T03:40:13.496289Z",
     "iopub.status.idle": "2023-04-25T03:40:13.608952Z",
     "shell.execute_reply": "2023-04-25T03:40:13.607636Z",
     "shell.execute_reply.started": "2023-04-25T03:40:13.496716Z"
    }
   },
   "outputs": [],
   "source": [
    "# Make predictions on the `predict_x_sparse` dataset\n",
    "predictions = lgb_target.predict(predict_x_sparse.toarray())\n",
    "predictions = (predictions > 0.5).astype(int) \n",
    "predictions = predictions.astype(int)"
   ]
  },
  {
   "cell_type": "code",
   "execution_count": 21,
   "metadata": {
    "execution": {
     "iopub.execute_input": "2023-04-25T03:40:14.060363Z",
     "iopub.status.busy": "2023-04-25T03:40:14.059934Z",
     "iopub.status.idle": "2023-04-25T03:40:14.071125Z",
     "shell.execute_reply": "2023-04-25T03:40:14.069594Z",
     "shell.execute_reply.started": "2023-04-25T03:40:14.060312Z"
    }
   },
   "outputs": [],
   "source": [
    "# Save the predictions to a CSV file for submission\n",
    "import pandas as pd\n",
    "\n",
    "submission = pd.DataFrame({'Id': range(len(predictions)), 'Predicted': predictions})\n",
    "submission.to_csv('submission.csv', index=False)"
   ]
  },
  {
   "cell_type": "code",
   "execution_count": 22,
   "metadata": {
    "execution": {
     "iopub.execute_input": "2023-04-25T03:40:16.209284Z",
     "iopub.status.busy": "2023-04-25T03:40:16.208453Z",
     "iopub.status.idle": "2023-04-25T03:40:16.218827Z",
     "shell.execute_reply": "2023-04-25T03:40:16.217396Z",
     "shell.execute_reply.started": "2023-04-25T03:40:16.209241Z"
    }
   },
   "outputs": [
    {
     "data": {
      "text/plain": [
       "1    573\n",
       "0    427\n",
       "Name: Predicted, dtype: int64"
      ]
     },
     "execution_count": 22,
     "metadata": {},
     "output_type": "execute_result"
    }
   ],
   "source": [
    "submission['Predicted'].value_counts()"
   ]
  },
  {
   "cell_type": "code",
   "execution_count": null,
   "metadata": {},
   "outputs": [],
   "source": []
  },
  {
   "cell_type": "code",
   "execution_count": null,
   "metadata": {},
   "outputs": [],
   "source": []
  }
 ],
 "metadata": {
  "kernelspec": {
   "display_name": "Python 3 (ipykernel)",
   "language": "python",
   "name": "python3"
  },
  "language_info": {
   "codemirror_mode": {
    "name": "ipython",
    "version": 3
   },
   "file_extension": ".py",
   "mimetype": "text/x-python",
   "name": "python",
   "nbconvert_exporter": "python",
   "pygments_lexer": "ipython3",
   "version": "3.8.12"
  }
 },
 "nbformat": 4,
 "nbformat_minor": 4
}
